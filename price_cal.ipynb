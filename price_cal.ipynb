{
 "cells": [
  {
   "cell_type": "markdown",
   "metadata": {},
   "source": [
    "receive input"
   ]
  },
  {
   "cell_type": "code",
   "execution_count": 1,
   "metadata": {},
   "outputs": [
    {
     "data": {
      "text/plain": [
       "(3, 40.0)"
      ]
     },
     "execution_count": 1,
     "metadata": {},
     "output_type": "execute_result"
    }
   ],
   "source": [
    "def get_values():\n",
    "    antal_item = int(input(\"giv antal items: \"))\n",
    "    stykke_pris = float(input(\"giv stykke pris: \"))\n",
    "    return antal_item, stykke_pris\n",
    "\n",
    "get_values()"
   ]
  },
  {
   "cell_type": "code",
   "execution_count": 30,
   "metadata": {},
   "outputs": [],
   "source": [
    "def get_values_online():\n",
    "    values = input(\"giv antal items og stykke pris: \")\n",
    "    values = values.split()\n",
    "    print(values)\n",
    "    antal_item = int(values[0])\n",
    "    stykke_pris = float(values[1])\n",
    "    print(\"antal_item:\", antal_item, \"stykke_pris:\", stykke_pris)\n",
    "    return antal_item, stykke_pris"
   ]
  },
  {
   "cell_type": "markdown",
   "metadata": {},
   "source": [
    "beregn pris eks moms"
   ]
  },
  {
   "cell_type": "code",
   "execution_count": 2,
   "metadata": {},
   "outputs": [
    {
     "data": {
      "text/plain": [
       "30"
      ]
     },
     "execution_count": 2,
     "metadata": {},
     "output_type": "execute_result"
    }
   ],
   "source": [
    "def calc_total_ex(antal_item, stykke_pris):\n",
    "    total = antal_item * stykke_pris\n",
    "    return total\n",
    "\n",
    "calc_total_ex(3, 10)"
   ]
  },
  {
   "cell_type": "code",
   "execution_count": 13,
   "metadata": {},
   "outputs": [
    {
     "name": "stdout",
     "output_type": "stream",
     "text": [
      "30.0\n",
      "250.0\n",
      "700.0000000000001\n"
     ]
    }
   ],
   "source": [
    "def calc_rabat(total):\n",
    "\n",
    "    if  total>=1000  and  total<5000: \n",
    "        rabat = total * 0.03\n",
    "    elif total >= 5000 and  total < 10000:\n",
    "        rabat = total * 0.05\n",
    "    elif total >= 10000:\n",
    "        rabat = total * 0.07\n",
    "    else:\n",
    "        rabat = 0\n",
    "    return rabat\n",
    "\n",
    "print(calc_rabat(1000))\n",
    "print(calc_rabat(5000))\n",
    "print(calc_rabat(10000))    \n",
    "\n"
   ]
  },
  {
   "cell_type": "code",
   "execution_count": 15,
   "metadata": {},
   "outputs": [],
   "source": [
    "def calc_total(total, rabat):\n",
    "    total = total - rabat\n",
    "    return total"
   ]
  },
  {
   "cell_type": "code",
   "execution_count": 16,
   "metadata": {},
   "outputs": [],
   "source": [
    "def calc_vat(total, vat):\n",
    "    vat = total * vat\n",
    "    return vat"
   ]
  },
  {
   "cell_type": "code",
   "execution_count": 17,
   "metadata": {},
   "outputs": [],
   "source": [
    "def calc_total_vat(total, vat):\n",
    "    total_vat = total + vat\n",
    "    return total_vat"
   ]
  },
  {
   "cell_type": "markdown",
   "metadata": {},
   "source": [
    "find land vat values"
   ]
  },
  {
   "cell_type": "code",
   "execution_count": 25,
   "metadata": {},
   "outputs": [
    {
     "name": "stdout",
     "output_type": "stream",
     "text": [
      "25\n",
      "20\n",
      "23\n"
     ]
    }
   ],
   "source": [
    "def get_vat_in_europe(country_code):\n",
    "    \"\"\"\n",
    "    Get the Value-Added Tax (VAT) rate for European countries.\n",
    "\n",
    "    Parameters:\n",
    "    - country_code: The country code.\n",
    "\n",
    "    Returns:\n",
    "    - vat_rate: The VAT rate for the specified country in Europe.\n",
    "    \"\"\"\n",
    "    european_vat_rates = {\n",
    "        \"AT\": 20,  # Austria\n",
    "        \"BE\": 21,  # Belgium\n",
    "        \"BG\": 20,  # Bulgaria\n",
    "        \"HR\": 25,  # Croatia\n",
    "        \"CY\": 19,  # Cyprus\n",
    "        \"CZ\": 21,  # Czech Republic\n",
    "        \"DK\": 25,  # Denmark\n",
    "        \"EE\": 20,  # Estonia\n",
    "        \"FI\": 24,  # Finland\n",
    "        \"FR\": 20,  # France\n",
    "        \"DE\": 19,  # Germany\n",
    "        \"GR\": 24,  # Greece\n",
    "        \"HU\": 27,  # Hungary\n",
    "        \"IE\": 23,  # Ireland\n",
    "        \"IT\": 22,  # Italy\n",
    "        \"LV\": 21,  # Latvia\n",
    "        \"LT\": 21,  # Lithuania\n",
    "        \"LU\": 17,  # Luxembourg\n",
    "        \"MT\": 18,  # Malta\n",
    "        \"NL\": 21,  # Netherlands\n",
    "        \"PL\": 23,  # Poland\n",
    "        \"PT\": 23,  # Portugal\n",
    "        \"RO\": 19,  # Romania\n",
    "        \"SK\": 20,  # Slovakia\n",
    "        \"SI\": 22,  # Slovenia\n",
    "        \"ES\": 21,  # Spain\n",
    "        \"SE\": 25,  # Sweden\n",
    "    }\n",
    "\n",
    "    country_code = country_code.upper()  # Convert to uppercase for case-insensitivity\n",
    "\n",
    "    if country_code in european_vat_rates:\n",
    "        return european_vat_rates[country_code]\n",
    "    else:\n",
    "        return None  # Return None for non-European countries or invalid codes\n",
    "\n",
    "Input_country_code = input(\"giv country code: \")\n",
    "while get_vat_in_europe(Input_country_code) != None:\n",
    "    print(get_vat_in_europe(Input_country_code))\n",
    "    Input_country_code = input(\"giv country code: \")\n",
    "    "
   ]
  },
  {
   "cell_type": "code",
   "execution_count": 26,
   "metadata": {},
   "outputs": [
    {
     "name": "stdout",
     "output_type": "stream",
     "text": [
      "Total: 5000.0\n",
      "Rabat: 250.0\n",
      "Total med rabat: 4750.0\n",
      "Vat: 1187.5\n",
      "Total med vat: 5937.5\n",
      "Total: 5937.5\n"
     ]
    }
   ],
   "source": [
    "antal, pris = get_values()\n",
    "total = calc_total_ex(antal, pris)\n",
    "print(f\"Total: {total}\")\n",
    "rabat = calc_rabat(total)\n",
    "print(f\"Rabat: {rabat}\")\n",
    "total = calc_total(total, rabat)\n",
    "print(f\"Total med rabat: {total}\")\n",
    "\n",
    "country_code = input(\"giv country code: \")\n",
    "\n",
    "vat = calc_vat(total, get_vat_in_europe(country_code) / 100)\n",
    "print(f\"Vat: {vat}\")\n",
    "total = calc_total_vat(total, vat)\n",
    "print(f\"Total med vat: {total}\")\n",
    "print(f\"Total: {total}\")"
   ]
  }
 ],
 "metadata": {
  "kernelspec": {
   "display_name": "Python 3",
   "language": "python",
   "name": "python3"
  },
  "language_info": {
   "codemirror_mode": {
    "name": "ipython",
    "version": 3
   },
   "file_extension": ".py",
   "mimetype": "text/x-python",
   "name": "python",
   "nbconvert_exporter": "python",
   "pygments_lexer": "ipython3",
   "version": "3.11.2"
  }
 },
 "nbformat": 4,
 "nbformat_minor": 2
}
